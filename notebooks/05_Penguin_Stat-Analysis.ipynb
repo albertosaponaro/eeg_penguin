{
 "cells": [
  {
   "cell_type": "markdown",
   "metadata": {},
   "source": [
    "# Statistical Analysis \n",
    "\n",
    "\n",
    "## Load Data"
   ]
  },
  {
   "cell_type": "code",
   "execution_count": 2,
   "metadata": {},
   "outputs": [],
   "source": [
    "%%capture\n",
    "\n",
    "import sys\n",
    "sys.path.append(\"..\")\n",
    "\n",
    "import mne\n",
    "import os\n",
    "import numpy as np\n",
    "from scipy import stats \n",
    "from mne_bids import BIDSPath, read_raw_bids\n",
    "from matplotlib import pyplot as plt\n",
    "from src.utils import load_subject, pipeline\n",
    "from src.plots import plot_ERPs\n",
    "\n",
    "\n",
    "# Set BIDS path\n",
    "bids_path = BIDSPath(root='../data', task='jacobsen', suffix='eeg')\n",
    "\n",
    "# List of all subject BIDS path\n",
    "all_sub_paths = bids_path.match()\n",
    "\n",
    "# Create dictionary to store individual subject ephochs and evoked\n",
    "sub_epochs = {'regular': [], 'random': []}\n",
    "sub_evokeds = {'regular': [], 'random': []}\n",
    "\n",
    "\n",
    "for sub_path in all_sub_paths:\n",
    "        # Load data\n",
    "        raw = load_subject(sub_path)\n",
    "\n",
    "        ## Execute filtering + cleaning data pipeline\n",
    "        raw, epochs = pipeline(\n",
    "            raw,\n",
    "            tmin = -1,\n",
    "            tmax = 1,\n",
    "            reject_amp = 100e-6, #±μ100 (if commented out doea not reject components)\n",
    "            perform_ica = False # ICA doesn't drop any componens\n",
    "        )\n",
    "\n",
    "        # Save individual subject epochs and evoked \n",
    "        sub_epochs['regular'].append(epochs['regular'])\n",
    "        sub_epochs['random'].append(epochs['random'])\n",
    "        sub_evokeds['regular'].append(epochs['regular'].average())\n",
    "        sub_evokeds['random'].append(epochs['random'].average())"
   ]
  },
  {
   "cell_type": "markdown",
   "metadata": {},
   "source": [
    "## _t_-Test"
   ]
  },
  {
   "cell_type": "code",
   "execution_count": 3,
   "metadata": {},
   "outputs": [
    {
     "name": "stdout",
     "output_type": "stream",
     "text": [
      "shape:  (24, 4)\n",
      "Difference t =  -3.5 p =  0.0019\n"
     ]
    }
   ],
   "source": [
    "diff_waves = []\n",
    "for i, _ in enumerate(all_sub_paths):\n",
    "    diff_waves.append(mne.combine_evoked([sub_evokeds['regular'][i], sub_evokeds['random'][i]], weights=[1, -1]))\n",
    "\n",
    "\n",
    "\n",
    "picks = [\"PO3\", \"PO7\", \"PO4\", \"PO8\"]\n",
    "\n",
    "y = np.array([np.mean(e.get_data(picks=picks, tmin=-1, tmax=1),axis=1) for e in diff_waves])\n",
    "\n",
    "# check shape of result\n",
    "print('shape: ', y.shape)\n",
    "\n",
    "# t-Test\n",
    "t, pval = stats.ttest_1samp(y, 0)\n",
    "print('Difference t = ', str(round(t[0], 2)), 'p = ', str(round(pval[0], 4)))"
   ]
  }
 ],
 "metadata": {
  "kernelspec": {
   "display_name": ".venv",
   "language": "python",
   "name": "python3"
  },
  "language_info": {
   "codemirror_mode": {
    "name": "ipython",
    "version": 3
   },
   "file_extension": ".py",
   "mimetype": "text/x-python",
   "name": "python",
   "nbconvert_exporter": "python",
   "pygments_lexer": "ipython3",
   "version": "3.12.2"
  }
 },
 "nbformat": 4,
 "nbformat_minor": 2
}
