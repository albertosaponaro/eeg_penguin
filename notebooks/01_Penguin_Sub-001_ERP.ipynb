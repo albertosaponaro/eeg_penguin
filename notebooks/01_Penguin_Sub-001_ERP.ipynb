{
 "cells": [
  {
   "cell_type": "markdown",
   "metadata": {},
   "source": [
    "# Subject 001 - Analysis\n",
    "\n",
    "### Load data\n"
   ]
  },
  {
   "cell_type": "code",
   "execution_count": 1,
   "metadata": {},
   "outputs": [
    {
     "name": "stdout",
     "output_type": "stream",
     "text": [
      "Extracting EDF parameters from /Users/saponaro/Developer/uni/eeg_penguin/data/sub-001/eeg/sub-001_task-jacobsen_eeg.bdf...\n",
      "BDF file detected\n",
      "Setting channel info structure...\n",
      "Creating raw.info structure...\n",
      "Reading events from ../data/sub-001/eeg/sub-001_task-jacobsen_events.tsv.\n",
      "Reading channel info from ../data/sub-001/eeg/sub-001_task-jacobsen_channels.tsv.\n",
      "Reading electrode coords from ../data/sub-001/eeg/sub-001_task-jacobsen_electrodes.tsv.\n",
      "Reading 0 ... 531967  =      0.000 ...  1038.998 secs...\n"
     ]
    },
    {
     "name": "stderr",
     "output_type": "stream",
     "text": [
      "/Users/saponaro/Developer/uni/eeg_penguin/notebooks/../src/utils.py:6: RuntimeWarning: The number of channels in the channels.tsv sidecar file (72) does not match the number of channels in the raw data file (73). Will not try to set channel names.\n",
      "  raw = read_raw_bids(bids_path = given_path)\n",
      "/Users/saponaro/Developer/uni/eeg_penguin/notebooks/../src/utils.py:6: RuntimeWarning: Cannot set channel type for the following channels, as they are missing in the raw data: 'AF3', 'AF4', 'AF7', 'AF8', 'AFz', 'C1', 'C2', 'C3', 'C4', 'C5', 'C6', 'CP1', 'CP2', 'CP3', 'CP4', 'CP5', 'CP6', 'CPz', 'Cz', 'EXG1', 'EXG2', 'EXG3', 'EXG4', 'EXG5', 'EXG6', 'EXG7', 'EXG8', 'F1', 'F2', 'F3', 'F4', 'F5', 'F6', 'F7', 'F8', 'FC1', 'FC2', 'FC3', 'FC4', 'FC5', 'FC6', 'FCz', 'FT7', 'FT8', 'Fp1', 'Fp2', 'Fpz', 'Fz', 'Iz', 'O1', 'O2', 'Oz', 'P1', 'P10', 'P2', 'P3', 'P4', 'P5', 'P6', 'P7', 'P8', 'P9', 'PO3', 'PO4', 'PO7', 'PO8', 'POz', 'Pz', 'T7', 'T8', 'TP7', 'TP8'\n",
      "  raw = read_raw_bids(bids_path = given_path)\n",
      "/Users/saponaro/Developer/uni/eeg_penguin/notebooks/../src/utils.py:6: RuntimeWarning: There are channels without locations (n/a) that are not marked as bad: [\"'EXG1'\", \"'EXG2'\", \"'EXG3'\", \"'EXG4'\", \"'EXG5'\", \"'EXG6'\", \"'EXG7'\", \"'EXG8'\"]\n",
      "  raw = read_raw_bids(bids_path = given_path)\n",
      "/Users/saponaro/Developer/uni/eeg_penguin/notebooks/../src/utils.py:6: RuntimeWarning: DigMontage is only a subset of info. There are 72 channel positions not present in the DigMontage. The channels missing from the montage are:\n",
      "\n",
      "['Fp1', 'AF7', 'AF3', 'F1', 'F3', 'F5', 'F7', 'FT7', 'FC5', 'FC3', 'FC1', 'C1', 'C3', 'C5', 'T7', 'TP7', 'CP5', 'CP3', 'CP1', 'P1', 'P3', 'P5', 'P7', 'P9', 'PO7', 'PO3', 'O1', 'Iz', 'Oz', 'POz', 'Pz', 'CPz', 'Fpz', 'Fp2', 'AF8', 'AF4', 'AFz', 'Fz', 'F2', 'F4', 'F6', 'F8', 'FT8', 'FC6', 'FC4', 'FC2', 'FCz', 'Cz', 'C2', 'C4', 'C6', 'T8', 'TP8', 'CP6', 'CP4', 'CP2', 'P2', 'P4', 'P6', 'P8', 'P10', 'PO8', 'PO4', 'O2', 'EXG1', 'EXG2', 'EXG3', 'EXG4', 'EXG5', 'EXG6', 'EXG7', 'EXG8'].\n",
      "\n",
      "Consider using inst.rename_channels to match the montage nomenclature, or inst.set_channel_types if these are not EEG channels, or use the on_missing parameter if the channel positions are allowed to be unknown in your analyses.\n",
      "  raw = read_raw_bids(bids_path = given_path)\n"
     ]
    },
    {
     "data": {
      "text/html": [
       "<details open>\n",
       "    <summary><strong>General</strong></summary>\n",
       "    <table class=\"table table-hover table-striped table-sm table-responsive small\">\n",
       "        <tr>\n",
       "            <th>Measurement date</th>\n",
       "            \n",
       "            <td>June 10, 2011  10:39:12 GMT</td>\n",
       "            \n",
       "        </tr>\n",
       "        <tr>\n",
       "            <th>Experimenter</th>\n",
       "            \n",
       "            <td>Unknown</td>\n",
       "            \n",
       "        </tr>\n",
       "        <tr>\n",
       "            <th>Participant</th>\n",
       "            \n",
       "            \n",
       "            <td>sub-001</td>\n",
       "            \n",
       "            \n",
       "        </tr>\n",
       "    </table>\n",
       "    </details>\n",
       "    <details open>\n",
       "        <summary><strong>Channels</strong></summary>\n",
       "        <table class=\"table table-hover table-striped table-sm table-responsive small\">\n",
       "            <tr>\n",
       "                <th>Digitized points</th>\n",
       "                \n",
       "                <td>67 points</td>\n",
       "                \n",
       "            </tr>\n",
       "            <tr>\n",
       "                <th>Good channels</th>\n",
       "                <td>64 EEG, 1 Stimulus</td>\n",
       "            </tr>\n",
       "            <tr>\n",
       "                <th>Bad channels</th>\n",
       "                <td>None</td>\n",
       "            </tr>\n",
       "            <tr>\n",
       "                <th>EOG channels</th>\n",
       "                <td>Not available</td>\n",
       "            </tr>\n",
       "            <tr>\n",
       "                <th>ECG channels</th>\n",
       "                <td>Not available</td>\n",
       "            </tr>\n",
       "        </table>\n",
       "        </details>\n",
       "        <details open>\n",
       "            <summary><strong>Data</strong></summary>\n",
       "            <table class=\"table table-hover table-striped table-sm table-responsive small\">\n",
       "                \n",
       "                <tr>\n",
       "                    <th>Sampling frequency</th>\n",
       "                    <td>512.00 Hz</td>\n",
       "                </tr>\n",
       "                \n",
       "                \n",
       "                <tr>\n",
       "                    <th>Highpass</th>\n",
       "                    <td>0.00 Hz</td>\n",
       "                </tr>\n",
       "                \n",
       "                \n",
       "                <tr>\n",
       "                    <th>Lowpass</th>\n",
       "                    <td>104.00 Hz</td>\n",
       "                </tr>\n",
       "                \n",
       "                \n",
       "                \n",
       "                <tr>\n",
       "                    <th>Filenames</th>\n",
       "                    <td>sub-001_task-jacobsen_eeg.bdf</td>\n",
       "                </tr>\n",
       "                \n",
       "                \n",
       "                <tr>\n",
       "                    <th>Duration</th>\n",
       "                    <td>00:17:19 (HH:MM:SS)</td>\n",
       "                </tr>\n",
       "                \n",
       "            </table>\n",
       "            </details>"
      ],
      "text/plain": [
       "<RawEDF | sub-001_task-jacobsen_eeg.bdf, 65 x 531968 (1039.0 s), ~263.9 MB, data loaded>"
      ]
     },
     "execution_count": 1,
     "metadata": {},
     "output_type": "execute_result"
    }
   ],
   "source": [
    "import sys\n",
    "sys.path.append(\"..\")\n",
    "\n",
    "import mne\n",
    "from mne_bids import BIDSPath, read_raw_bids\n",
    "from src.utils import load_subject, pipeline\n",
    "import numpy as np\n",
    "from matplotlib import pyplot as plt\n",
    "\n",
    "# DEBUG\n",
    "PLOT_DATA = False\n",
    "\n",
    "# Set subject\n",
    "target_root = '../data'\n",
    "target_subject = '001'\n",
    "target_task = 'jacobsen'\n",
    "target_suffix = 'eeg'\n",
    "\n",
    "# Set BIDS path\n",
    "target_path = BIDSPath(\n",
    "    root = target_root, \n",
    "    subject = target_subject, \n",
    "    task = target_task, \n",
    "    suffix = target_suffix)\n",
    "\n",
    "# Load Data\n",
    "raw = load_subject(target_path)\n",
    "\n",
    "# Plot RAW data\n",
    "if PLOT_DATA: raw.plot();\n",
    "\n",
    "raw\n"
   ]
  },
  {
   "cell_type": "markdown",
   "metadata": {},
   "source": [
    "## Pipeline\n",
    "\n",
    "Describe the pipeline"
   ]
  },
  {
   "cell_type": "code",
   "execution_count": 2,
   "metadata": {},
   "outputs": [
    {
     "name": "stdout",
     "output_type": "stream",
     "text": [
      "EEG channel type selected for re-referencing\n",
      "Applying average reference.\n",
      "Applying a custom ('EEG',) reference.\n",
      "Filtering raw data in 1 contiguous segment\n",
      "Setting up band-pass filter from 1 - 25 Hz\n",
      "\n",
      "FIR filter parameters\n",
      "---------------------\n",
      "Designing a one-pass, zero-phase, non-causal bandpass filter:\n",
      "- Windowed time-domain design (firwin) method\n",
      "- Hamming window with 0.0194 passband ripple and 53 dB stopband attenuation\n",
      "- Lower passband edge: 1.00\n",
      "- Lower transition bandwidth: 1.00 Hz (-6 dB cutoff frequency: 0.50 Hz)\n",
      "- Upper passband edge: 25.00 Hz\n",
      "- Upper transition bandwidth: 6.25 Hz (-6 dB cutoff frequency: 28.12 Hz)\n",
      "- Filter length: 1691 samples (3.303 s)\n",
      "\n"
     ]
    },
    {
     "name": "stderr",
     "output_type": "stream",
     "text": [
      "[Parallel(n_jobs=1)]: Done  17 tasks      | elapsed:    0.2s\n"
     ]
    },
    {
     "name": "stdout",
     "output_type": "stream",
     "text": [
      "Trigger channel Status has a non-zero initial value of {initial_value} (consider using initial_event=True to detect this event)\n",
      "Removing orphaned offset at the beginning of the file.\n",
      "159 events found on stim channel Status\n",
      "Event IDs: [1 3]\n",
      "Trigger channel Status has a non-zero initial value of {initial_value} (consider using initial_event=True to detect this event)\n",
      "Removing orphaned offset at the beginning of the file.\n",
      "159 events found on stim channel Status\n",
      "Event IDs: [1 3]\n"
     ]
    }
   ],
   "source": [
    "# EEG trace re-referenced to scalp average\n",
    "raw = raw.set_eeg_reference(ref_channels = \"average\")\n",
    "if PLOT_DATA: raw.plot();\n",
    "\n",
    "# Set low/high-pass filters (l_freq = high-pass / h_freq = low-pass)\n",
    "raw = raw.filter(l_freq = 1, h_freq = 25, fir_design = 'firwin')\n",
    "if PLOT_DATA: raw.plot();\n",
    "\n",
    "# Downsample\n",
    "raw = raw.resample(sfreq=128)\n",
    "if PLOT_DATA: raw.plot();\n"
   ]
  },
  {
   "cell_type": "code",
   "execution_count": 3,
   "metadata": {},
   "outputs": [
    {
     "name": "stdout",
     "output_type": "stream",
     "text": [
      "Computing rank from data with rank=None\n",
      "    Using tolerance 7.4e-11 (2.2e-16 eps * 64 dim * 5.2e+03  max singular value)\n",
      "    Estimated rank (eeg): 63\n",
      "    EEG: rank 63 computed from 64 data channels with 0 projectors\n"
     ]
    }
   ],
   "source": [
    "# Initialize and fit ICA\n",
    "# DOC: https://mne.tools/stable/auto_tutorials/preprocessing/40_artifact_correction_ica.html\n",
    "data_rank = mne.compute_rank(raw)['eeg']\n",
    "ica = mne.preprocessing.ICA(method = \"picard\", n_components = data_rank) #n_components = 64\n",
    "ica.fit(raw, verbose = False)\n",
    "\n",
    "# Apply ICA to clean data\n",
    "raw = ica.apply(raw)\n",
    "\n",
    "raw"
   ]
  },
  {
   "cell_type": "code",
   "execution_count": null,
   "metadata": {},
   "outputs": [],
   "source": [
    "# Set events for epoching\n",
    "events = mne.find_events(raw, initial_event=True)\n",
    "event_dict = {'regular': 1, 'random': 3}\n",
    "\n",
    "# Epoching, prepare for getting evoked responses\n",
    "epochs = mne.Epochs(raw,\n",
    "    events, event_dict,\n",
    "    tmin = -1, \n",
    "    tmax = 1,\n",
    "    baseline = (-0.2,0.05))\n",
    "\n",
    "epochs.drop_bad(reject={'eeg': 100e-6})\n",
    "\n",
    "epochs"
   ]
  },
  {
   "cell_type": "markdown",
   "metadata": {},
   "source": [
    "### Event-Related Potentials (ERPs)"
   ]
  },
  {
   "cell_type": "code",
   "execution_count": null,
   "metadata": {},
   "outputs": [],
   "source": [
    "e1 = epochs['regular'].average()\n",
    "e2 = epochs['random'].average()\n",
    "evokeds = dict(regular = e1, random = e2)\n",
    "picks = [f\"PO{n}\" for n in range(7, 9)]\n",
    "mne.viz.plot_compare_evokeds(evokeds, picks=picks, combine=\"mean\", title='Subject 001 - ERPs');\n"
   ]
  }
 ],
 "metadata": {
  "kernelspec": {
   "display_name": ".venv",
   "language": "python",
   "name": "python3"
  },
  "language_info": {
   "codemirror_mode": {
    "name": "ipython",
    "version": 3
   },
   "file_extension": ".py",
   "mimetype": "text/x-python",
   "name": "python",
   "nbconvert_exporter": "python",
   "pygments_lexer": "ipython3",
   "version": "3.12.2"
  }
 },
 "nbformat": 4,
 "nbformat_minor": 2
}
