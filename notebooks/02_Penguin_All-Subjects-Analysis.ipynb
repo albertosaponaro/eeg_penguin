{
 "cells": [
  {
   "cell_type": "markdown",
   "metadata": {},
   "source": [
    "# All Subjects - Analysis\n",
    "\n",
    "## Load Data"
   ]
  },
  {
   "cell_type": "code",
   "execution_count": 5,
   "metadata": {},
   "outputs": [],
   "source": [
    "%%capture\n",
    "\n",
    "import sys\n",
    "sys.path.append(\"..\")\n",
    "\n",
    "import mne\n",
    "from mne_bids import BIDSPath, read_raw_bids\n",
    "from src.utils import load_subject, pipeline\n",
    "from matplotlib import pyplot as plt\n",
    "\n",
    "# Set BIDS path\n",
    "bids_path = BIDSPath(root='../data', task='jacobsen', suffix='eeg')\n",
    "\n",
    "# List of all subject BIDS path\n",
    "all_sub_paths = bids_path.match()\n",
    "\n",
    "# Create dictionary to store individual subject ephochs and evoked\n",
    "sub_epochs = {'regular': [], 'random': []}\n",
    "sub_evoked = {'regular': [], 'random': []}\n",
    "\n",
    "\n",
    "for sub_path in all_sub_paths:\n",
    "        # Load data\n",
    "        raw = load_subject(sub_path)\n",
    "\n",
    "        # Set tmin and tmax\n",
    "        tmin, tmax = -1, 3 # -1, 1\n",
    "\n",
    "        raw, epochs = pipeline(raw)\n",
    "\n",
    "        # Save individual subject epochs and evoked\n",
    "        sub_epochs['regular'].append(epochs['regular'])\n",
    "        sub_epochs['random'].append(epochs['random'])\n",
    "        sub_evoked['regular'].append(epochs['regular'].average())\n",
    "        sub_evoked['random'].append(epochs['random'].average())\n",
    "        \n",
    "        #break\n"
   ]
  }
 ],
 "metadata": {
  "kernelspec": {
   "display_name": ".venv",
   "language": "python",
   "name": "python3"
  },
  "language_info": {
   "codemirror_mode": {
    "name": "ipython",
    "version": 3
   },
   "file_extension": ".py",
   "mimetype": "text/x-python",
   "name": "python",
   "nbconvert_exporter": "python",
   "pygments_lexer": "ipython3",
   "version": "3.12.2"
  }
 },
 "nbformat": 4,
 "nbformat_minor": 2
}
